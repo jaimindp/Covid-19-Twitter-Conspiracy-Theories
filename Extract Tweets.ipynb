{
 "cells": [
  {
   "cell_type": "markdown",
   "metadata": {},
   "source": [
    "# Extract Tweets\n",
    "\n",
    "Using keywords found in original, reply or retweets"
   ]
  },
  {
   "cell_type": "code",
   "execution_count": 16,
   "metadata": {},
   "outputs": [],
   "source": [
    "import pandas as pd\n",
    "import json\n",
    "import tweepy\n",
    "import pickle\n",
    "from datetime import datetime\n",
    "import os"
   ]
  },
  {
   "cell_type": "code",
   "execution_count": 44,
   "metadata": {},
   "outputs": [],
   "source": [
    "# Paths for data\n",
    "homepath = '../../'\n",
    "covid_path = homepath + 'covid_data/'\n",
    "csv_path = covid_path + 'reparsed_csvs/'\n",
    "save_path = covid_path + 'retweet_jsons/'"
   ]
  },
  {
   "cell_type": "code",
   "execution_count": 36,
   "metadata": {},
   "outputs": [
    {
     "name": "stderr",
     "output_type": "stream",
     "text": [
      "/nas/home/jpatel/ls/lib/python3.8/site-packages/IPython/core/interactiveshell.py:3145: DtypeWarning: Columns (0,1,10,14,15,17,18) have mixed types.Specify dtype option on import or set low_memory=False.\n",
      "  has_raised = await self.run_ast_nodes(code_ast.body, cell_name,\n"
     ]
    }
   ],
   "source": [
    "orig_dfs,qtd_dfs,rt_dfs = [],[],[]\n",
    "for i in os.listdir(csv_path):\n",
    "    if 'orig_' in i:\n",
    "        orig_dfs.append(i)\n",
    "    elif 'qtd_' in i:\n",
    "        qtd_dfs.append(i)\n",
    "    elif 'rt_' in i:\n",
    "        rt_dfs.append(i)\n",
    "        \n",
    "orig_dfs = sorted(orig_dfs)\n",
    "qtd_dfs = sorted(qtd_dfs)\n",
    "rt_dfs = sorted(rt_dfs)\n",
    "\n",
    "orig_consp = pd.DataFrame()\n",
    "qtd_consp = pd.DataFrame()\n",
    "rt_consp = pd.DataFrame()\n",
    "for i in range(len(orig_dfs)):\n",
    "    orig_consp = orig_consp.append(pd.read_csv(csv_path+'corona_parsed_orig_%d.csv'%i))  \n",
    "    qtd_consp = qtd_consp.append(pd.read_csv(csv_path+'corona_parsed_qtd_%d.csv'%i))  \n",
    "    rt_consp = rt_consp.append(pd.read_csv(csv_path+'corona_parsed_rt_%d.csv'%i))"
   ]
  },
  {
   "cell_type": "code",
   "execution_count": 37,
   "metadata": {},
   "outputs": [],
   "source": [
    "with open(\"../keys.json\") as keys_json:\n",
    "    keys = json.load(keys_json)"
   ]
  },
  {
   "cell_type": "code",
   "execution_count": 38,
   "metadata": {},
   "outputs": [],
   "source": [
    "#Add your credentials here\n",
    "twitter_keys = {\n",
    "        'consumer_key':        keys['twitter_keys']['consumer_key'],\n",
    "        'consumer_secret':     keys['twitter_keys']['consumer_secret'],\n",
    "        'access_token_key':    keys['twitter_keys']['access_token_key'],\n",
    "        'access_token_secret': keys['twitter_keys']['access_token_secret']\n",
    "    }\n",
    "\n",
    "auth = tweepy.OAuthHandler(twitter_keys['consumer_key'], twitter_keys['consumer_secret'])\n",
    "auth.set_access_token(twitter_keys['access_token_key'], twitter_keys['access_token_secret'])\n",
    "\n",
    "api = tweepy.API(auth, wait_on_rate_limit=True)"
   ]
  },
  {
   "cell_type": "code",
   "execution_count": 39,
   "metadata": {},
   "outputs": [
    {
     "data": {
      "text/plain": [
       "(173989, 27)"
      ]
     },
     "execution_count": 39,
     "metadata": {},
     "output_type": "execute_result"
    }
   ],
   "source": [
    "orig_consp.shape"
   ]
  },
  {
   "cell_type": "code",
   "execution_count": null,
   "metadata": {
    "scrolled": false
   },
   "outputs": [],
   "source": [
    "# Format is each tweet is a json line in a .txt file\n",
    "# {tweet_1_id : [retweet_jsons]}\n",
    "\n",
    "group_size = 10000\n",
    "\n",
    "save_file = \"retweet_jsons\"\n",
    "for row in orig_consp.iterrows():\n",
    "    if row[0] % group_size == 0:\n",
    "        outfile = open(save_path + save_file + str(row[0]//group_size) + '.txt', 'w')\n",
    "    t_id = row[1].tweetid\n",
    "    try:\n",
    "        rts = api.retweets(t_id, 100)\n",
    "        this_list = []\n",
    "        for rt in rts:\n",
    "            this_list.append(rt._json)\n",
    "\n",
    "        this_json = {t_id:this_list}\n",
    "        json.dump(this_json, outfile)\n",
    "        outfile.write('\\n')\n",
    "    except Exception as e:\n",
    "        pass"
   ]
  },
  {
   "cell_type": "code",
   "execution_count": null,
   "metadata": {},
   "outputs": [],
   "source": []
  }
 ],
 "metadata": {
  "kernelspec": {
   "display_name": "Python 3",
   "language": "python",
   "name": "python3"
  },
  "language_info": {
   "codemirror_mode": {
    "name": "ipython",
    "version": 3
   },
   "file_extension": ".py",
   "mimetype": "text/x-python",
   "name": "python",
   "nbconvert_exporter": "python",
   "pygments_lexer": "ipython3",
   "version": "3.8.3"
  }
 },
 "nbformat": 4,
 "nbformat_minor": 4
}
