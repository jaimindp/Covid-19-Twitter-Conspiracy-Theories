{
 "cells": [
  {
   "cell_type": "markdown",
   "metadata": {},
   "source": [
    "# Extract Tweets\n",
    "\n",
    "Using keywords found in original, reply or retweets"
   ]
  },
  {
   "cell_type": "code",
   "execution_count": 1,
   "metadata": {},
   "outputs": [],
   "source": [
    "import pandas as pd\n",
    "import json\n",
    "import tweepy\n",
    "from datetime import datetime\n",
    "import os\n",
    "from tqdm.auto import tqdm as tqdm"
   ]
  },
  {
   "cell_type": "code",
   "execution_count": 2,
   "metadata": {},
   "outputs": [],
   "source": [
    "# Paths for data\n",
    "homepath = '../../'\n",
    "covid_path = homepath + 'covid_data/'\n",
    "csv_path = covid_path + 'reparsed_csvs/'\n",
    "save_path = covid_path + 'retweet_jsons/'"
   ]
  },
  {
   "cell_type": "code",
   "execution_count": 3,
   "metadata": {},
   "outputs": [
    {
     "name": "stderr",
     "output_type": "stream",
     "text": [
      "/nas/home/jpatel/ls/lib/python3.8/site-packages/IPython/core/interactiveshell.py:3145: DtypeWarning: Columns (0,1,10,14,15,17,18) have mixed types.Specify dtype option on import or set low_memory=False.\n",
      "  has_raised = await self.run_ast_nodes(code_ast.body, cell_name,\n"
     ]
    }
   ],
   "source": [
    "orig_dfs,qtd_dfs,rt_dfs = [],[],[]\n",
    "for i in os.listdir(csv_path):\n",
    "    if 'orig_' in i:\n",
    "        orig_dfs.append(i)\n",
    "    elif 'qtd_' in i:\n",
    "        qtd_dfs.append(i)\n",
    "    elif 'rt_' in i:\n",
    "        rt_dfs.append(i)\n",
    "        \n",
    "orig_dfs = sorted(orig_dfs)\n",
    "qtd_dfs = sorted(qtd_dfs)\n",
    "rt_dfs = sorted(rt_dfs)\n",
    "\n",
    "orig_consp = pd.DataFrame()\n",
    "qtd_consp = pd.DataFrame()\n",
    "rt_consp = pd.DataFrame()\n",
    "for i in range(len(orig_dfs)):\n",
    "    orig_consp = orig_consp.append(pd.read_csv(csv_path+'corona_parsed_orig_%d.csv'%i))  \n",
    "    qtd_consp = qtd_consp.append(pd.read_csv(csv_path+'corona_parsed_qtd_%d.csv'%i))  \n",
    "    rt_consp = rt_consp.append(pd.read_csv(csv_path+'corona_parsed_rt_%d.csv'%i))"
   ]
  },
  {
   "cell_type": "code",
   "execution_count": 4,
   "metadata": {},
   "outputs": [],
   "source": [
    "with open(\"../keys.json\") as keys_json:\n",
    "    keys = json.load(keys_json)"
   ]
  },
  {
   "cell_type": "code",
   "execution_count": 5,
   "metadata": {},
   "outputs": [],
   "source": [
    "#Add your credentials here\n",
    "twitter_keys = {\n",
    "        'consumer_key':        keys['twitter_keys']['consumer_key'],\n",
    "        'consumer_secret':     keys['twitter_keys']['consumer_secret'],\n",
    "        'access_token_key':    keys['twitter_keys']['access_token_key'],\n",
    "        'access_token_secret': keys['twitter_keys']['access_token_secret']\n",
    "    }\n",
    "\n",
    "auth = tweepy.OAuthHandler(twitter_keys['consumer_key'], twitter_keys['consumer_secret'])\n",
    "auth.set_access_token(twitter_keys['access_token_key'], twitter_keys['access_token_secret'])\n",
    "\n",
    "api = tweepy.API(auth, wait_on_rate_limit=True)"
   ]
  },
  {
   "cell_type": "code",
   "execution_count": 6,
   "metadata": {},
   "outputs": [
    {
     "data": {
      "text/plain": [
       "(173989, 27)"
      ]
     },
     "execution_count": 6,
     "metadata": {},
     "output_type": "execute_result"
    }
   ],
   "source": [
    "orig_consp.shape"
   ]
  },
  {
   "cell_type": "code",
   "execution_count": 7,
   "metadata": {},
   "outputs": [],
   "source": [
    "last_id = '-1'"
   ]
  },
  {
   "cell_type": "code",
   "execution_count": 9,
   "metadata": {},
   "outputs": [
    {
     "data": {
      "text/plain": [
       "['retweet_jsons0.txt']"
      ]
     },
     "execution_count": 9,
     "metadata": {},
     "output_type": "execute_result"
    }
   ],
   "source": [
    "files = []\n",
    "for i in sorted(os.listdir(save_path)):\n",
    "    if 'retweet_jsons' in i:\n",
    "        files.append(i)\n",
    "files"
   ]
  },
  {
   "cell_type": "code",
   "execution_count": 17,
   "metadata": {},
   "outputs": [],
   "source": [
    "outfile = open(save_path + files[-1], 'r')\n",
    "lines = outfile.readlines()\n",
    "last_line = lines[-1]\n",
    "last_id = list(json.loads(last_line).keys())[0]"
   ]
  },
  {
   "cell_type": "code",
   "execution_count": null,
   "metadata": {
    "scrolled": true
   },
   "outputs": [
    {
     "data": {
      "application/vnd.jupyter.widget-view+json": {
       "model_id": "b18b5176c3114c009c1ed70cdd0b625c",
       "version_major": 2,
       "version_minor": 0
      },
      "text/plain": [
       "HBox(children=(FloatProgress(value=1.0, bar_style='info', max=1.0), HTML(value='')))"
      ]
     },
     "metadata": {},
     "output_type": "display_data"
    },
    {
     "name": "stdout",
     "output_type": "stream",
     "text": [
      "in here\n",
      "not\n",
      "[{'code': 200, 'message': 'Forbidden.'}]\n",
      "[{'code': 200, 'message': 'Forbidden.'}]\n",
      "[{'code': 34, 'message': 'Sorry, that page does not exist.'}]\n",
      "[{'code': 34, 'message': 'Sorry, that page does not exist.'}]\n",
      "[{'code': 200, 'message': 'Forbidden.'}]\n",
      "[{'code': 200, 'message': 'Forbidden.'}]\n",
      "[{'code': 200, 'message': 'Forbidden.'}]\n",
      "[{'code': 200, 'message': 'Forbidden.'}]\n",
      "[{'code': 200, 'message': 'Forbidden.'}]\n",
      "[{'code': 200, 'message': 'Forbidden.'}]\n",
      "[{'code': 34, 'message': 'Sorry, that page does not exist.'}]\n",
      "[{'code': 34, 'message': 'Sorry, that page does not exist.'}]\n",
      "[{'code': 200, 'message': 'Forbidden.'}]\n",
      "[{'code': 200, 'message': 'Forbidden.'}]\n",
      "[{'code': 200, 'message': 'Forbidden.'}]\n",
      "[{'code': 200, 'message': 'Forbidden.'}]\n",
      "[{'code': 200, 'message': 'Forbidden.'}]\n",
      "[{'code': 200, 'message': 'Forbidden.'}]\n",
      "[{'code': 200, 'message': 'Forbidden.'}]\n",
      "[{'code': 34, 'message': 'Sorry, that page does not exist.'}]\n",
      "[{'code': 34, 'message': 'Sorry, that page does not exist.'}]\n",
      "[{'code': 34, 'message': 'Sorry, that page does not exist.'}]\n",
      "[{'code': 34, 'message': 'Sorry, that page does not exist.'}]\n",
      "[{'code': 34, 'message': 'Sorry, that page does not exist.'}]\n",
      "[{'code': 200, 'message': 'Forbidden.'}]\n",
      "[{'code': 200, 'message': 'Forbidden.'}]\n",
      "[{'code': 200, 'message': 'Forbidden.'}]\n",
      "[{'code': 200, 'message': 'Forbidden.'}]\n"
     ]
    }
   ],
   "source": [
    "# Format is each tweet is a json line in a .txt file\n",
    "# {tweet_1_id : [retweet_jsons]}\n",
    "\n",
    "group_size = 10000\n",
    "\n",
    "save_file = \"retweet_jsons\"\n",
    "found = False\n",
    "for i, row in tqdm(enumerate(orig_consp.iterrows())):\n",
    "    if not found and last_id != '-1':\n",
    "        if i % group_size == 0:\n",
    "            file_name = save_file + str(i//group_size) + '.txt'\n",
    "            if file_name in os.listdir(save_path):\n",
    "                print('in here')\n",
    "                outfile = open(save_path + file_name, 'a')\n",
    "            else:\n",
    "                print('not')\n",
    "                outfile = open(save_path + save_file + str(i//group_size) + '.txt', 'w')\n",
    "                \n",
    "        if last_id == str(row[1].tweetid):\n",
    "            found = True\n",
    "        continue\n",
    "    \n",
    "    t_id = row[1].tweetid\n",
    "    \n",
    "    try:\n",
    "        rts = api.retweets(t_id, 100)\n",
    "        this_list = []\n",
    "        for rt in rts:\n",
    "            this_list.append(rt._json)\n",
    "\n",
    "        this_json = {t_id:this_list}\n",
    "        json.dump(this_json, outfile)\n",
    "        outfile.write('\\n')\n",
    "    except Exception as e:\n",
    "        print(e)"
   ]
  },
  {
   "cell_type": "code",
   "execution_count": 45,
   "metadata": {},
   "outputs": [
    {
     "data": {
      "text/plain": [
       "(791,\n",
       " tweetid                                                1222245728908693505\n",
       " userid                                                            49992656\n",
       " screen_name                                                  joyceramgatie\n",
       " date                                        tue jan 28 19:51:04 +0000 2020\n",
       " lang                                                                    en\n",
       " location                                                         worldwide\n",
       " text                     https://t.co/afnndpliqs coronavirus is the bla...\n",
       " tweet_type                                                        original\n",
       " followers_count                                                       4505\n",
       " favourites_count                                                       258\n",
       " verified                                                             False\n",
       " hashtag                                ['maga', 'qanon', 'greatawakening']\n",
       " mentionid                                                               []\n",
       " mentionsn                                                               []\n",
       " rt_userid                                                              NaN\n",
       " rt_screen                                                              NaN\n",
       " rt_hashtag                                                              []\n",
       " rt_rt_count                                                              0\n",
       " rt_fav_count                                                             0\n",
       " rt_tweetid                                                             NaN\n",
       " rt_urls_list                                                            []\n",
       " urls_list                [{'url': 'https://t.co/afnndpliqs', 'expanded_...\n",
       " qtd_hashtag                                                             []\n",
       " qtd_urls_list                                                           []\n",
       " account_creation_date                       tue jun 23 14:39:59 +0000 2009\n",
       " rt_text                                                                NaN\n",
       " qtd_text                                                               NaN\n",
       " Name: 791, dtype: object)"
      ]
     },
     "execution_count": 45,
     "metadata": {},
     "output_type": "execute_result"
    }
   ],
   "source": [
    "row"
   ]
  },
  {
   "cell_type": "code",
   "execution_count": null,
   "metadata": {},
   "outputs": [],
   "source": []
  }
 ],
 "metadata": {
  "kernelspec": {
   "display_name": "Python 3",
   "language": "python",
   "name": "python3"
  },
  "language_info": {
   "codemirror_mode": {
    "name": "ipython",
    "version": 3
   },
   "file_extension": ".py",
   "mimetype": "text/x-python",
   "name": "python",
   "nbconvert_exporter": "python",
   "pygments_lexer": "ipython3",
   "version": "3.8.3"
  }
 },
 "nbformat": 4,
 "nbformat_minor": 4
}
