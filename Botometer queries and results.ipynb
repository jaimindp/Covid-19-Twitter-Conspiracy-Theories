{
 "cells": [
  {
   "cell_type": "code",
   "execution_count": 1,
   "metadata": {},
   "outputs": [
    {
     "name": "stdout",
     "output_type": "stream",
     "text": [
      "Requirement already satisfied: requests in /nas/home/jpatel/ls/lib/python3.8/site-packages (2.23.0)\n",
      "Requirement already satisfied: tweepy in /nas/home/jpatel/ls/lib/python3.8/site-packages (3.9.0)\n",
      "Requirement already satisfied: certifi>=2017.4.17 in /nas/home/jpatel/ls/lib/python3.8/site-packages (from requests) (2020.6.20)\n",
      "Requirement already satisfied: urllib3!=1.25.0,!=1.25.1,<1.26,>=1.21.1 in /nas/home/jpatel/ls/lib/python3.8/site-packages (from requests) (1.25.8)\n",
      "Requirement already satisfied: chardet<4,>=3.0.2 in /nas/home/jpatel/ls/lib/python3.8/site-packages (from requests) (3.0.4)\n",
      "Requirement already satisfied: idna<3,>=2.5 in /nas/home/jpatel/ls/lib/python3.8/site-packages (from requests) (2.9)\n",
      "Requirement already satisfied: requests-oauthlib>=0.7.0 in /nas/home/jpatel/ls/lib/python3.8/site-packages (from tweepy) (1.3.0)\n",
      "Requirement already satisfied: six>=1.10.0 in /nas/home/jpatel/ls/lib/python3.8/site-packages (from tweepy) (1.14.0)\n",
      "Requirement already satisfied: oauthlib>=3.0.0 in /nas/home/jpatel/ls/lib/python3.8/site-packages (from requests-oauthlib>=0.7.0->tweepy) (3.1.0)\n",
      "Requirement already satisfied: botometer in /nas/home/jpatel/ls/lib/python3.8/site-packages (1.6)\n",
      "Requirement already satisfied: requests in /nas/home/jpatel/ls/lib/python3.8/site-packages (from botometer) (2.23.0)\n",
      "Requirement already satisfied: tweepy>=3.5.0 in /nas/home/jpatel/ls/lib/python3.8/site-packages (from botometer) (3.9.0)\n",
      "Requirement already satisfied: certifi>=2017.4.17 in /nas/home/jpatel/ls/lib/python3.8/site-packages (from requests->botometer) (2020.6.20)\n",
      "Requirement already satisfied: idna<3,>=2.5 in /nas/home/jpatel/ls/lib/python3.8/site-packages (from requests->botometer) (2.9)\n",
      "Requirement already satisfied: urllib3!=1.25.0,!=1.25.1,<1.26,>=1.21.1 in /nas/home/jpatel/ls/lib/python3.8/site-packages (from requests->botometer) (1.25.8)\n",
      "Requirement already satisfied: chardet<4,>=3.0.2 in /nas/home/jpatel/ls/lib/python3.8/site-packages (from requests->botometer) (3.0.4)\n",
      "Requirement already satisfied: requests-oauthlib>=0.7.0 in /nas/home/jpatel/ls/lib/python3.8/site-packages (from tweepy>=3.5.0->botometer) (1.3.0)\n",
      "Requirement already satisfied: six>=1.10.0 in /nas/home/jpatel/ls/lib/python3.8/site-packages (from tweepy>=3.5.0->botometer) (1.14.0)\n",
      "Requirement already satisfied: oauthlib>=3.0.0 in /nas/home/jpatel/ls/lib/python3.8/site-packages (from requests-oauthlib>=0.7.0->tweepy>=3.5.0->botometer) (3.1.0)\n"
     ]
    }
   ],
   "source": [
    "!pip install requests tweepy\n",
    "!pip install botometer\n",
    "\n",
    "# !pip install twython\n",
    "# !pip install pandas\n",
    "import pandas as pd\n",
    "import os\n",
    "import json\n",
    "import gc\n",
    "import ast\n",
    "import time\n",
    "from ast import literal_eval"
   ]
  },
  {
   "cell_type": "code",
   "execution_count": 2,
   "metadata": {},
   "outputs": [],
   "source": [
    "# Returns a list of jsons of each uesr\n",
    "def read_bot_csv(csv_name):\n",
    "    file = open(csv_name)\n",
    "    return file.readlines()"
   ]
  },
  {
   "cell_type": "code",
   "execution_count": 3,
   "metadata": {},
   "outputs": [],
   "source": [
    "def users_list(json_list):\n",
    "    all_users = []\n",
    "    \n",
    "    for user in json_list:\n",
    "        this_user = json.loads(user)\n",
    "        if this_user.get('user'):\n",
    "            all_users.append(this_user.get('user').get('screen_name'))\n",
    "    \n",
    "    return list(set(all_users))"
   ]
  },
  {
   "cell_type": "code",
   "execution_count": 36,
   "metadata": {},
   "outputs": [],
   "source": [
    "sampled_users = list(pd.read_csv('Botometer_to_query/qanon_pizza_users.csv').names)\n",
    "# sampled_users = list(pd.read_csv('names_to_query/antivax_handles_to_query.csv').names)"
   ]
  },
  {
   "cell_type": "code",
   "execution_count": 38,
   "metadata": {},
   "outputs": [],
   "source": [
    "csv_name = 'qanon_pizza_users'\n",
    "dir_name = 'Botometer_to_query/'\n",
    "# Botometer_to_query"
   ]
  },
  {
   "cell_type": "code",
   "execution_count": 19,
   "metadata": {},
   "outputs": [],
   "source": [
    "# sampled_users = []\n",
    "# iter_count = 0 \n",
    "# while len(sampled_users) < 50000: \n",
    "#     iter_count += 1\n",
    "#     for key,val in user_dict.items():\n",
    "#         sampled_users.append(val[iter_count])\n",
    "# sampled_users"
   ]
  },
  {
   "cell_type": "code",
   "execution_count": 40,
   "metadata": {},
   "outputs": [
    {
     "name": "stdout",
     "output_type": "stream",
     "text": [
      "{\"error\": \"TweepError: Not authorized.\"}\n",
      "\n"
     ]
    }
   ],
   "source": [
    "dir_name = 'Botometer_results/'\n",
    "if csv_name +'.csv' in os.listdir(dir_name):\n",
    "    file = open(dir_name+csv_name+'.csv')\n",
    "    lines = file.readlines()\n",
    "    print(lines[-1])\n",
    "else:\n",
    "    with open(dir_name + csv_name + '.csv', 'w') as file:\n",
    "        pass"
   ]
  },
  {
   "cell_type": "code",
   "execution_count": 26,
   "metadata": {
    "scrolled": true
   },
   "outputs": [],
   "source": [
    "# for i in lines:\n",
    "#     this_user = json.loads(i)\n",
    "#     if this_user.get('user'):\n",
    "#         last_user = this_user['user']['user_data']['screen_name'].lower()\n",
    "# print(last_user)\n",
    "\n",
    "# for i, user in enumerate(sampled_users):\n",
    "#     if user == last_user:\n",
    "#         counter = i\n",
    "#         break\n",
    "handles = sampled_users"
   ]
  },
  {
   "cell_type": "code",
   "execution_count": 31,
   "metadata": {},
   "outputs": [
    {
     "data": {
      "text/plain": [
       "1"
      ]
     },
     "execution_count": 31,
     "metadata": {},
     "output_type": "execute_result"
    }
   ],
   "source": [
    "len(handles)"
   ]
  },
  {
   "cell_type": "code",
   "execution_count": 41,
   "metadata": {},
   "outputs": [],
   "source": [
    "handles = sampled_users\n",
    "counter = 0"
   ]
  },
  {
   "cell_type": "code",
   "execution_count": null,
   "metadata": {
    "scrolled": false
   },
   "outputs": [],
   "source": [
    "import botometer\n",
    "\n",
    "rapidapi_key = \"6ac8fe69aamshcc30411e7824b49p12a1cajsnc2267278951c\" # now it's called rapidapi key\n",
    "\n",
    "twitter_app_auth = {\n",
    "    'consumer_key':'MmWATyoHu9GdouoNuZNuzzWbi',\n",
    "    'consumer_secret': 'iYZRcgnKzBZ5GlzBe4olGXBtBT8t0p6K99JeUIeKvPIqBLQk9l',\n",
    "    'access_token': '1239432784319406080-vuGIvDzEWj6j6EL57427FHnDTipljz',\n",
    "    'access_token_secret': 'ISafXRzVjGSQc46mjNtMgMXZl3ry9wDmMHiHRVzsMlX60',\n",
    "  }\n",
    "\n",
    "botometer_api_url = 'https://botometer-pro.p.rapidapi.com'\n",
    "bom = botometer.Botometer(botometer_api_url=botometer_api_url,\n",
    "                          wait_on_ratelimit=True,\n",
    "                          rapidapi_key=rapidapi_key,\n",
    "                          **twitter_app_auth)\n",
    "\n",
    "# Check a single account by screen name\n",
    "result = bom.check_account('@clayadavis')\n",
    "\n",
    "daily_lim = 0\n",
    "this_acc = ''\n",
    "start_day = time.time()\n",
    "\n",
    "while counter < len(handles):\n",
    "# for index in range(counter,len(handles)):\n",
    "    try:\n",
    "        for screen_name, result in bom.check_accounts_in(handles[counter:]):\n",
    "    \n",
    "#     name = handles[index]\n",
    "#     try:\n",
    "#         result=bom.check_account(name)\n",
    "#         for screen_name, result in bom.check_accounts_in(handles):\n",
    "\n",
    "            this_acc = screen_name\n",
    "            with open('Botometer_results/' + csv_name + '.csv', 'a+') as file:\n",
    "                file.write('%s\\n' % json.dumps(result))\n",
    "            counter += 1\n",
    "            daily_lim += 1\n",
    "            \n",
    "            if daily_lim >= 35000:\n",
    "                print('Reaced daily max')\n",
    "                now = time.time()\n",
    "                sleep_secs = 24 *60**2 - (now-start_day)\n",
    "                \n",
    "                if sleep_secs > 0:\n",
    "                    time.sleep(sleep_secs)\n",
    "                \n",
    "                daily_lim = 0\n",
    "                start_day = time.time()\n",
    "            \n",
    "    except:\n",
    "        print('\\nSleeping on: ', str(counter),'  ' + this_acc)\n",
    "        time.sleep(5)"
   ]
  },
  {
   "cell_type": "code",
   "execution_count": 54,
   "metadata": {},
   "outputs": [
    {
     "data": {
      "text/plain": [
       "2005"
      ]
     },
     "execution_count": 54,
     "metadata": {},
     "output_type": "execute_result"
    }
   ],
   "source": [
    "counter"
   ]
  },
  {
   "cell_type": "code",
   "execution_count": 125,
   "metadata": {},
   "outputs": [],
   "source": [
    "results = pd.read_csv('botometer_results/'+csv_name+'.csv').reset_index()\n",
    "results.columns = range(33)\n",
    "results = results.astype(str)\n",
    "results['json'] = results.apply(','.join, axis=1).astype(str)\n",
    "results = results[~results['json'].str.contains('error')]\n",
    "results = pd.DataFrame(results.json)"
   ]
  },
  {
   "cell_type": "code",
   "execution_count": 126,
   "metadata": {},
   "outputs": [],
   "source": [
    "results.to_csv('Botometer_results/antivax_results_jsons.csv',index=False)"
   ]
  },
  {
   "cell_type": "code",
   "execution_count": null,
   "metadata": {},
   "outputs": [],
   "source": []
  }
 ],
 "metadata": {
  "kernelspec": {
   "display_name": "Python 3",
   "language": "python",
   "name": "python3"
  },
  "language_info": {
   "codemirror_mode": {
    "name": "ipython",
    "version": 3
   },
   "file_extension": ".py",
   "mimetype": "text/x-python",
   "name": "python",
   "nbconvert_exporter": "python",
   "pygments_lexer": "ipython3",
   "version": "3.8.3"
  }
 },
 "nbformat": 4,
 "nbformat_minor": 2
}
