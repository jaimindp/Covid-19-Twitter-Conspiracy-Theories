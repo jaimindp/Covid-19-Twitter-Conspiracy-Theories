{
 "cells": [
  {
   "cell_type": "code",
   "execution_count": 4,
   "metadata": {},
   "outputs": [],
   "source": [
    "import pandas as pd\n",
    "import json\n",
    "import tweepy\n",
    "import pickle\n",
    "from datetime import datetime"
   ]
  },
  {
   "cell_type": "code",
   "execution_count": 5,
   "metadata": {},
   "outputs": [],
   "source": [
    "#Add your credentials here\n",
    "twitter_keys = {\n",
    "        'consumer_key':        'DPIuUoHQsmaeK7UCyQZPxk1pD',\n",
    "        'consumer_secret':     'SLDDw1VCdbF1ZpWl8xnNRekgw2Occd7ltVPuxo4tfyTZRPd8aq',\n",
    "        'access_token_key':    '1239432784319406080-utlL3ABCF0F7TK1Kcg2QBMHy2FfvTZ',\n",
    "        'access_token_secret': 'rHxi7iYnyDOeK9eE9t7BNi7KJTstAGaFlOINSx3qIpTFB'\n",
    "    }\n",
    "\n",
    "#Setup access to API\n",
    "auth = tweepy.OAuthHandler(twitter_keys['consumer_key'], twitter_keys['consumer_secret'])\n",
    "auth.set_access_token(twitter_keys['access_token_key'], twitter_keys['access_token_secret'])\n",
    "\n",
    "api = tweepy.API(auth, wait_on_rate_limit=True)"
   ]
  },
  {
   "cell_type": "markdown",
   "metadata": {},
   "source": [
    "To look for: 1283464336091086848"
   ]
  },
  {
   "cell_type": "code",
   "execution_count": 10,
   "metadata": {},
   "outputs": [],
   "source": [
    "quoted = 1334643765710041095"
   ]
  },
  {
   "cell_type": "code",
   "execution_count": null,
   "metadata": {
    "scrolled": true
   },
   "outputs": [],
   "source": [
    "status = api.get_status(quoted)"
   ]
  },
  {
   "cell_type": "code",
   "execution_count": 29,
   "metadata": {},
   "outputs": [
    {
     "name": "stdout",
     "output_type": "stream",
     "text": [
      "The status was created at : 2020-07-14 21:06:08\n",
      "The id is : 1283145779025240065\n",
      "The id_str is : 1283145779025240065\n",
      "The text is : If you cannot look at darkness &amp; evil in the world you will not be able to “see” the agenda behind #COVID &amp;… https://t.co/N1IupSaZUL\n",
      "The entitities are : {'hashtags': [{'text': 'COVID', 'indices': [103, 109]}], 'symbols': [], 'user_mentions': [], 'urls': [{'url': 'https://t.co/N1IupSaZUL', 'expanded_url': 'https://twitter.com/i/web/status/1283145779025240065', 'display_url': 'twitter.com/i/web/status/1…', 'indices': [117, 140]}]}\n",
      "The source is : Twitter for iPhone\n",
      "The source_url is : http://twitter.com/download/iphone\n",
      "The in_reply_to_status_id is : None\n",
      "The in_reply_to_status_id_str is : None\n",
      "The in_reply_to_user_id is : None\n",
      "The in_reply_to_user_id_str is : None\n",
      "The in_reply_to_screen_name is : None\n",
      "The poster's screen name is : AliBeckZeck\n",
      "The geo is : None\n",
      "The coordinates are : None\n",
      "The place is : None\n",
      "The contributors are : None\n",
      "The is_quote_status is : False\n",
      "The retweet_count is : 497\n",
      "The favorite_count is : 904\n",
      "Has the authenticated user favourited the status? : False\n",
      "Has the authenticated user retweeted the status? False\n",
      "The lang is : en\n"
     ]
    }
   ],
   "source": [
    "# printing the information \n",
    "print(\"The status was created at : \" + str(status.created_at)) \n",
    "print(\"The id is : \" + str(status.id)) \n",
    "print(\"The id_str is : \" + status.id_str) \n",
    "print(\"The text is : \" + status.text) \n",
    "print(\"The entitities are : \" + str(status.entities)) \n",
    "print(\"The source is : \" + status.source) \n",
    "print(\"The source_url is : \" + status.source_url) \n",
    "  \n",
    "  \n",
    "print(\"The in_reply_to_status_id is : \" + str(status.in_reply_to_status_id)) \n",
    "print(\"The in_reply_to_status_id_str is : \" + str(status.in_reply_to_status_id_str)) \n",
    "print(\"The in_reply_to_user_id is : \" + str(status.in_reply_to_user_id)) \n",
    "print(\"The in_reply_to_user_id_str is : \" + str(status.in_reply_to_user_id_str)) \n",
    "print(\"The in_reply_to_screen_name is : \" + str(status.in_reply_to_screen_name)) \n",
    "  \n",
    "  \n",
    "print(\"The poster's screen name is : \" + status.user.screen_name) \n",
    "print(\"The geo is : \" + str(status.geo)) \n",
    "print(\"The coordinates are : \" + str(status.coordinates)) \n",
    "print(\"The place is : \" + str(status.place)) \n",
    "print(\"The contributors are : \" + str(status.contributors)) \n",
    "print(\"The is_quote_status is : \" + str(status.is_quote_status)) \n",
    "print(\"The retweet_count is : \" + str(status.retweet_count)) \n",
    "print(\"The favorite_count is : \" + str(status.favorite_count)) \n",
    "  \n",
    "print(\"Has the authenticated user favourited the status? : \" + str(status.favorited)) \n",
    "print(\"Has the authenticated user retweeted the status? \" + str(status.retweeted)) \n",
    "# print(\"Is the status possibly_sensitive? : \" + str(status.possibly_sensitive)) \n",
    "print(\"The lang is : \" + status.lang) "
   ]
  },
  {
   "cell_type": "code",
   "execution_count": 34,
   "metadata": {},
   "outputs": [
    {
     "name": "stdout",
     "output_type": "stream",
     "text": [
      "92\n"
     ]
    }
   ],
   "source": [
    "r_tweets = api.retweets(quoted, 100)\n",
    "# r_tweets = api.retweets(1283464336091086848)\n",
    "print(len(r_tweets))"
   ]
  },
  {
   "cell_type": "code",
   "execution_count": 42,
   "metadata": {
    "scrolled": false
   },
   "outputs": [
    {
     "name": "stdout",
     "output_type": "stream",
     "text": [
      "False\n",
      "False\n",
      "False\n",
      "False\n",
      "False\n",
      "False\n",
      "False\n",
      "False\n",
      "False\n",
      "False\n",
      "False\n",
      "False\n",
      "False\n",
      "False\n",
      "False\n",
      "False\n",
      "False\n",
      "False\n",
      "False\n",
      "False\n",
      "False\n",
      "False\n",
      "False\n",
      "False\n",
      "False\n",
      "False\n",
      "False\n",
      "False\n",
      "False\n",
      "False\n",
      "False\n",
      "False\n",
      "False\n",
      "False\n",
      "False\n",
      "False\n",
      "False\n",
      "False\n",
      "False\n",
      "False\n",
      "False\n",
      "False\n",
      "False\n",
      "False\n",
      "False\n",
      "False\n",
      "False\n",
      "False\n",
      "False\n",
      "False\n",
      "False\n",
      "False\n",
      "False\n",
      "False\n",
      "False\n",
      "False\n",
      "False\n",
      "False\n",
      "False\n",
      "False\n",
      "False\n",
      "False\n",
      "False\n",
      "False\n",
      "False\n",
      "False\n",
      "False\n",
      "False\n",
      "False\n",
      "False\n",
      "False\n",
      "False\n",
      "False\n",
      "False\n",
      "False\n",
      "False\n",
      "False\n",
      "False\n",
      "False\n",
      "False\n",
      "False\n",
      "False\n",
      "False\n",
      "False\n",
      "False\n",
      "False\n",
      "False\n",
      "False\n",
      "False\n",
      "False\n",
      "False\n",
      "False\n"
     ]
    }
   ],
   "source": [
    "for i in r_tweets:\n",
    "    print(api.get_status(i.id).is_quote_status)\n",
    "#     if api.get_status(i.id).is_quote_status == True:\n",
    "#         print(i.id)\n",
    "# #         print('\\n\\n\\n' + i)"
   ]
  },
  {
   "cell_type": "code",
   "execution_count": 23,
   "metadata": {},
   "outputs": [],
   "source": [
    "for i in api.retweeters(1283145779025240065):\n",
    "    if i == 1283464336091086848:\n",
    "        break"
   ]
  },
  {
   "cell_type": "code",
   "execution_count": null,
   "metadata": {},
   "outputs": [],
   "source": []
  },
  {
   "cell_type": "code",
   "execution_count": null,
   "metadata": {},
   "outputs": [],
   "source": []
  },
  {
   "cell_type": "code",
   "execution_count": null,
   "metadata": {},
   "outputs": [],
   "source": [
    "GET https://api.twitter.com/1.1/statuses/retweets/1128692733353218048.json"
   ]
  }
 ],
 "metadata": {
  "kernelspec": {
   "display_name": "Python 3",
   "language": "python",
   "name": "python3"
  },
  "language_info": {
   "codemirror_mode": {
    "name": "ipython",
    "version": 3
   },
   "file_extension": ".py",
   "mimetype": "text/x-python",
   "name": "python",
   "nbconvert_exporter": "python",
   "pygments_lexer": "ipython3",
   "version": "3.8.3"
  }
 },
 "nbformat": 4,
 "nbformat_minor": 4
}
